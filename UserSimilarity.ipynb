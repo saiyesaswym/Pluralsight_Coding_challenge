{
 "cells": [
  {
   "cell_type": "markdown",
   "metadata": {},
   "source": [
    "## Import Libraries and Read Data:"
   ]
  },
  {
   "cell_type": "code",
   "execution_count": 1,
   "metadata": {
    "collapsed": true
   },
   "outputs": [],
   "source": [
    "import numpy as np\n",
    "import pandas as pd\n",
    "import pickle\n",
    "import sqlite3\n",
    "from sklearn.preprocessing import MinMaxScaler\n",
    "from sklearn.neighbors import KDTree"
   ]
  },
  {
   "cell_type": "code",
   "execution_count": 2,
   "metadata": {
    "collapsed": true
   },
   "outputs": [],
   "source": [
    "user_scores = pd.read_csv(\"./data_files/user_assessment_scores.csv\")\n",
    "user_courses = pd.read_csv(\"./data_files/user_course_views.csv\")\n",
    "courses = pd.read_csv(\"./data_files/course_tags.csv\")\n",
    "user_interests = pd.read_csv(\"./data_files/user_interests.csv\")"
   ]
  },
  {
   "cell_type": "markdown",
   "metadata": {},
   "source": [
    "### Checking unique values in each file:"
   ]
  },
  {
   "cell_type": "code",
   "execution_count": 3,
   "metadata": {
    "scrolled": true
   },
   "outputs": [
    {
     "data": {
      "text/plain": [
       "user_handle              3114\n",
       "assessment_tag             54\n",
       "user_assessment_date     6570\n",
       "user_assessment_score     282\n",
       "dtype: int64"
      ]
     },
     "execution_count": 3,
     "metadata": {},
     "output_type": "execute_result"
    }
   ],
   "source": [
    "user_scores.nunique()"
   ]
  },
  {
   "cell_type": "code",
   "execution_count": 4,
   "metadata": {},
   "outputs": [
    {
     "data": {
      "text/plain": [
       "user_handle           8760\n",
       "view_date              212\n",
       "course_id             5942\n",
       "author_handle         1412\n",
       "level                    3\n",
       "view_time_seconds    11631\n",
       "dtype: int64"
      ]
     },
     "execution_count": 4,
     "metadata": {},
     "output_type": "execute_result"
    }
   ],
   "source": [
    "user_courses.nunique()"
   ]
  },
  {
   "cell_type": "code",
   "execution_count": 5,
   "metadata": {
    "scrolled": true
   },
   "outputs": [
    {
     "data": {
      "text/plain": [
       "course_id      5942\n",
       "course_tags     998\n",
       "dtype: int64"
      ]
     },
     "execution_count": 5,
     "metadata": {},
     "output_type": "execute_result"
    }
   ],
   "source": [
    "courses.nunique()"
   ]
  },
  {
   "cell_type": "code",
   "execution_count": 6,
   "metadata": {},
   "outputs": [
    {
     "data": {
      "text/plain": [
       "user_handle      10000\n",
       "interest_tag       748\n",
       "date_followed    12869\n",
       "dtype: int64"
      ]
     },
     "execution_count": 6,
     "metadata": {},
     "output_type": "execute_result"
    }
   ],
   "source": [
    "user_interests.nunique()"
   ]
  },
  {
   "cell_type": "code",
   "execution_count": 7,
   "metadata": {},
   "outputs": [
    {
     "name": "stdout",
     "output_type": "stream",
     "text": [
      "Total number of users: 10000\n",
      "Total number of courses: 5942\n",
      "Total number of assessment tags: 54\n",
      "Total number of interest tags: 748\n"
     ]
    }
   ],
   "source": [
    "course_ids = list(user_courses.course_id.unique())\n",
    "interest_tags = list(user_interests.interest_tag.unique())\n",
    "userhandle_main = list(user_interests.user_handle.unique())\n",
    "assess_tags = list(user_scores.assessment_tag.unique())\n",
    "\n",
    "print(\"Total number of users: \"+ str(len(userhandle_main)))\n",
    "print(\"Total number of courses: \"+ str(len(course_ids)))\n",
    "print(\"Total number of assessment tags: \"+ str(len(assess_tags)))\n",
    "print(\"Total number of interest tags: \"+ str(len(interest_tags)))"
   ]
  },
  {
   "cell_type": "markdown",
   "metadata": {},
   "source": [
    "## Creating User-Item matrices:\n",
    "\n",
    "### 1. For User_course_views:"
   ]
  },
  {
   "cell_type": "code",
   "execution_count": 8,
   "metadata": {},
   "outputs": [
    {
     "data": {
      "text/plain": [
       "array([[4884., 4959.,  102., ...,    0.,    0.,    0.],\n",
       "       [   0.,    0.,    0., ...,    0.,    0.,    0.],\n",
       "       [   0.,    0.,    0., ...,    0.,    0.,    0.],\n",
       "       ...,\n",
       "       [   0.,    0.,    0., ...,    0.,    0.,    0.],\n",
       "       [   0.,    0.,    0., ...,    0.,    0.,    0.],\n",
       "       [   0.,    0.,    0., ...,    0.,    0.,    0.]])"
      ]
     },
     "execution_count": 8,
     "metadata": {},
     "output_type": "execute_result"
    }
   ],
   "source": [
    "courses_mat = np.zeros((len(userhandle_main),len(course_ids)))\n",
    "\n",
    "#Values in course_views matrix are filled using view_time_seconds \n",
    "users = user_courses['user_handle']\n",
    "courses = user_courses['course_id']\n",
    "viewtime = user_courses['view_time_seconds']\n",
    "\n",
    "for i in range(len(users)):\n",
    "    r = userhandle_main.index(users[i])\n",
    "    c = course_ids.index(courses[i])\n",
    "    time = float(viewtime[i])\n",
    "    courses_mat[r][c] += time\n",
    "\n",
    "courses_mat"
   ]
  },
  {
   "cell_type": "code",
   "execution_count": 9,
   "metadata": {},
   "outputs": [
    {
     "data": {
      "text/plain": [
       "array([[0.93923077, 1.        , 0.00369258, ..., 0.        , 0.        ,\n",
       "        0.        ],\n",
       "       [0.        , 0.        , 0.        , ..., 0.        , 0.        ,\n",
       "        0.        ],\n",
       "       [0.        , 0.        , 0.        , ..., 0.        , 0.        ,\n",
       "        0.        ],\n",
       "       ...,\n",
       "       [0.        , 0.        , 0.        , ..., 0.        , 0.        ,\n",
       "        0.        ],\n",
       "       [0.        , 0.        , 0.        , ..., 0.        , 0.        ,\n",
       "        0.        ],\n",
       "       [0.        , 0.        , 0.        , ..., 0.        , 0.        ,\n",
       "        0.        ]])"
      ]
     },
     "execution_count": 9,
     "metadata": {},
     "output_type": "execute_result"
    }
   ],
   "source": [
    "from sklearn.preprocessing import MinMaxScaler\n",
    "scaler = MinMaxScaler(feature_range=(0,1))\n",
    "courses_mat_scaled = scaler.fit_transform(courses_mat)\n",
    "courses_mat_scaled"
   ]
  },
  {
   "cell_type": "markdown",
   "metadata": {},
   "source": [
    "### 2. For user_interests:"
   ]
  },
  {
   "cell_type": "code",
   "execution_count": 10,
   "metadata": {},
   "outputs": [
    {
     "data": {
      "text/plain": [
       "array([[1., 1., 1., ..., 0., 0., 0.],\n",
       "       [0., 0., 0., ..., 0., 0., 0.],\n",
       "       [1., 1., 1., ..., 0., 0., 0.],\n",
       "       ...,\n",
       "       [1., 1., 1., ..., 0., 0., 0.],\n",
       "       [0., 0., 0., ..., 0., 0., 0.],\n",
       "       [0., 0., 0., ..., 0., 0., 0.]])"
      ]
     },
     "execution_count": 10,
     "metadata": {},
     "output_type": "execute_result"
    }
   ],
   "source": [
    "interests_mat = np.zeros((len(userhandle_main),len(interest_tags)))\n",
    "\n",
    "#Values in user_interests matrix are filled using 1 or 0\n",
    "users = user_interests['user_handle']\n",
    "interests = user_interests['interest_tag']\n",
    "\n",
    "for i in range(len(users)):\n",
    "    r = userhandle_main.index(users[i])\n",
    "    c = interest_tags.index(interests[i])\n",
    "    interests_mat[r][c] = 1\n",
    "\n",
    "interests_mat"
   ]
  },
  {
   "cell_type": "markdown",
   "metadata": {},
   "source": [
    "### 3. For user_assessment_scores:"
   ]
  },
  {
   "cell_type": "code",
   "execution_count": 11,
   "metadata": {},
   "outputs": [
    {
     "data": {
      "text/plain": [
       "array([[0., 0., 0., ..., 0., 0., 0.],\n",
       "       [0., 0., 0., ..., 0., 0., 0.],\n",
       "       [0., 0., 0., ..., 0., 0., 0.],\n",
       "       ...,\n",
       "       [0., 0., 0., ..., 0., 0., 0.],\n",
       "       [0., 0., 0., ..., 0., 0., 0.],\n",
       "       [0., 0., 0., ..., 0., 0., 0.]])"
      ]
     },
     "execution_count": 11,
     "metadata": {},
     "output_type": "execute_result"
    }
   ],
   "source": [
    "assess_mat = np.zeros((len(userhandle_main),len(assess_tags)))\n",
    "\n",
    "#Values in user_assessment matrix are filled using 1 or 0\n",
    "users = user_scores['user_handle']\n",
    "assesstags = user_scores['assessment_tag']\n",
    "\n",
    "for i in range(len(users)):\n",
    "    r = userhandle_main.index(users[i])\n",
    "    c = assess_tags.index(assesstags[i])\n",
    "    assess_mat[r][c] = 1\n",
    "\n",
    "assess_mat"
   ]
  },
  {
   "cell_type": "code",
   "execution_count": 12,
   "metadata": {
    "collapsed": true
   },
   "outputs": [],
   "source": [
    "final_mat = np.hstack((courses_mat_scaled, interests_mat, assess_mat))\n",
    "final_df = pd.DataFrame(final_mat, index = userhandle_main, columns = course_ids + interest_tags + assess_tags)"
   ]
  },
  {
   "cell_type": "code",
   "execution_count": 13,
   "metadata": {},
   "outputs": [
    {
     "data": {
      "text/plain": [
       "(10000, 6744)"
      ]
     },
     "execution_count": 13,
     "metadata": {},
     "output_type": "execute_result"
    }
   ],
   "source": [
    "final_df.shape"
   ]
  },
  {
   "cell_type": "markdown",
   "metadata": {},
   "source": [
    "## Finding Similarity using Euclidean distance and determining neighbors using K-D tree:"
   ]
  },
  {
   "cell_type": "code",
   "execution_count": 14,
   "metadata": {
    "collapsed": true
   },
   "outputs": [],
   "source": [
    "from sklearn.neighbors import KDTree"
   ]
  },
  {
   "cell_type": "code",
   "execution_count": 15,
   "metadata": {
    "collapsed": true
   },
   "outputs": [],
   "source": [
    "tree = KDTree(final_df, metric = 'euclidean')\n",
    "s = pickle.dumps(tree)                     \n",
    "tree_copy = pickle.loads(s)  "
   ]
  },
  {
   "cell_type": "code",
   "execution_count": 16,
   "metadata": {},
   "outputs": [
    {
     "name": "stdout",
     "output_type": "stream",
     "text": [
      "[[   0 6530 3556  328 1711 4390]]\n"
     ]
    }
   ],
   "source": [
    "dist, index = tree_copy.query([final_df.iloc[0]], k=6)\n",
    "print(index)"
   ]
  },
  {
   "cell_type": "code",
   "execution_count": 17,
   "metadata": {},
   "outputs": [
    {
     "data": {
      "text/plain": [
       "array([6530, 3556,  328, 1711, 4390])"
      ]
     },
     "execution_count": 17,
     "metadata": {},
     "output_type": "execute_result"
    }
   ],
   "source": [
    "np.delete(index[0],0)"
   ]
  },
  {
   "cell_type": "code",
   "execution_count": 18,
   "metadata": {
    "collapsed": true
   },
   "outputs": [],
   "source": [
    "similar_users=[]\n",
    "for i in index[0]:\n",
    "    val={}\n",
    "    a = (final_df.iloc[i])\n",
    "    b = a.nonzero()\n",
    "    sim_courses = [x for x in b[0] if x< 5942]\n",
    "    if(i==index[0][0]):\n",
    "        val[\"Courses\"] = final_df.columns[sim_courses].values\n",
    "    else:\n",
    "        val[i] = final_df.columns[sim_courses].values\n",
    "    similar_users.append(val)\n",
    "    "
   ]
  },
  {
   "cell_type": "code",
   "execution_count": 19,
   "metadata": {},
   "outputs": [
    {
     "data": {
      "text/plain": [
       "[{'Courses': array(['cpt-sp2010-web-designers-branding-intro',\n",
       "         'cpt-sp2010-web-designers-css',\n",
       "         'aws-certified-solutions-architect-professional',\n",
       "         'aws-certified-sysops-admin-associate',\n",
       "         'aws-system-admin-fundamentals', 'react-js-getting-started'],\n",
       "        dtype=object)},\n",
       " {6530: array(['angular-2-end-to-end'], dtype=object)},\n",
       " {3556: array(['npm-playbook', 'learning-programming-javascript'], dtype=object)},\n",
       " {328: array([], dtype=object)},\n",
       " {1711: array(['angular-2-getting-started-update'], dtype=object)},\n",
       " {4390: array(['react-js-getting-started', 'java-fundamentals-language',\n",
       "         'python-understanding-machine-learning', 'rest-fundamentals',\n",
       "         'typescript', 'python-getting-started',\n",
       "         'understanding-machine-learning', 'html5-fundamentals',\n",
       "         'what-is-programming', 'javascript-programming-basics',\n",
       "         'ionic2-angular2-typescript-mobile-apps',\n",
       "         'cloud-computing-fundamentals', 'android-start-developing',\n",
       "         'java-fundamentals-collections', 'tcpip-networking-it-pros',\n",
       "         'java-web-fundamentals', 'node-intro',\n",
       "         'full-stack-dot-net-developer-fundamentals',\n",
       "         'angular-fundamentals', 'angular-2-first-look',\n",
       "         'angular-2-getting-started-update', 'css-intro', 'go-fundamentals',\n",
       "         'developer-job-interviews', 'csharp-interfaces',\n",
       "         'csharp-extension-methods', 'ads-part1',\n",
       "         'developing-dotnet-microsoft-azure-getting-started',\n",
       "         'implementing-restful-aspdotnet-web-api', 'webpack-fundamentals',\n",
       "         'angular-2-end-to-end', 'intro-async-parallel-dotnet4',\n",
       "         'patterns-library', 'mongodb-introduction',\n",
       "         'front-end-web-development-get-started', 'angularjs-fundamentals',\n",
       "         'aspdotnet-mvc5-fundamentals', 'angularjs-dotnet-developers',\n",
       "         'mvc4-building', 'bootstrap-3',\n",
       "         'play-by-play-api-functionality-swagger',\n",
       "         'play-by-play-angular-2-quick-start-john-papa-ward-bell',\n",
       "         'owin-katana-understanding', 'clr-threading', 'google-analytics',\n",
       "         'nodejs-dotnet-developers', 'linq-fundamentals', 'selenium',\n",
       "         'restful-services-java-using-jersey',\n",
       "         'machine-learning-algorithms', 'adodotnet-by-example',\n",
       "         'aspdotnet-mvc', 'automated-testing-framework-selenium',\n",
       "         'grpc-enhancing-application-communication',\n",
       "         'linq-fundamentals-csharp-6', 'java-8-whats-new',\n",
       "         'csharp-design-strategies', 'clr-fundamentals', 'ads2',\n",
       "         'https-every-developer-must-know', 'mongoose-for-nodejs-mongodb',\n",
       "         'angular-2-animations', 'stay-abreast-changing-tech',\n",
       "         'angular-web-api-front-back', 'cybersecurity-threats-ransomware',\n",
       "         'building-securing-restful-api-aspdotnet',\n",
       "         'javascript-jasmine-typescript', 'angularui-fundamentals',\n",
       "         'typescript-in-depth', 'adodotnet-fundamentals',\n",
       "         'angular-2-redux-manage-state', 'spa',\n",
       "         'testing-angularjs-from-scratch',\n",
       "         'play-by-play-angular-testing-papa-bell',\n",
       "         'codedui-test-automation', 'visual-studio-code',\n",
       "         'authenticating-angular-spa-aspnet-webapi-auth0',\n",
       "         'jquery-getting-started',\n",
       "         'topshelf-getting-started-building-windows-services',\n",
       "         'full-stack-nodejs', 'backbone-fundamentals',\n",
       "         'cordova-apps-angular-typescript-vscode',\n",
       "         'html-document-flow-1837',\n",
       "         'introduction-microsoft-office-open-xml', 'sp2010-basics',\n",
       "         'hands-on-foundation-5', 'creating-server-side-excel-workbooks'],\n",
       "        dtype=object)}]"
      ]
     },
     "execution_count": 19,
     "metadata": {},
     "output_type": "execute_result"
    }
   ],
   "source": [
    "similar_users"
   ]
  },
  {
   "cell_type": "markdown",
   "metadata": {},
   "source": [
    "## Finding Similarity using Cosine similarity:"
   ]
  },
  {
   "cell_type": "code",
   "execution_count": 20,
   "metadata": {},
   "outputs": [
    {
     "data": {
      "text/plain": [
       "NearestNeighbors(algorithm='brute', leaf_size=30, metric='cosine',\n",
       "         metric_params=None, n_jobs=1, n_neighbors=6, p=2, radius=1.0)"
      ]
     },
     "execution_count": 20,
     "metadata": {},
     "output_type": "execute_result"
    }
   ],
   "source": [
    "from sklearn.neighbors import NearestNeighbors\n",
    "\n",
    "usersim_cosine = NearestNeighbors(n_neighbors=6, algorithm = 'brute', metric='cosine')\n",
    "usersim_cosine.fit(final_df)"
   ]
  },
  {
   "cell_type": "code",
   "execution_count": 22,
   "metadata": {},
   "outputs": [
    {
     "name": "stdout",
     "output_type": "stream",
     "text": [
      "[[   0 3556 6530  328 1711 4390]]\n"
     ]
    }
   ],
   "source": [
    "dist, ind = usersim_cosine.kneighbors([final_df.iloc[0]]) \n",
    "print(ind)"
   ]
  },
  {
   "cell_type": "markdown",
   "metadata": {},
   "source": [
    "### We can observe that both euclidean distance and cosine similarity gave the same set of users for this sample. \n",
    "But it need not apply for all the samples. "
   ]
  },
  {
   "cell_type": "markdown",
   "metadata": {},
   "source": [
    "### Putting everything together:"
   ]
  },
  {
   "cell_type": "code",
   "execution_count": 5,
   "metadata": {
    "collapsed": true
   },
   "outputs": [],
   "source": [
    "import numpy as np\n",
    "import pandas as pd\n",
    "import pickle\n",
    "import sqlite3\n",
    "from sklearn.preprocessing import MinMaxScaler\n",
    "from sklearn.neighbors import KDTree\n",
    "\n",
    "def read_and_process():\n",
    "    user_scores = pd.read_csv(\"./data_files/user_assessment_scores.csv\")\n",
    "    user_courses = pd.read_csv(\"./data_files/user_course_views.csv\")\n",
    "    courses = pd.read_csv(\"./data_files/course_tags.csv\")\n",
    "    user_interests = pd.read_csv(\"./data_files/user_interests.csv\")\n",
    "\n",
    "    course_ids = list(user_courses.course_id.unique())\n",
    "    interest_tags = list(user_interests.interest_tag.unique())\n",
    "    userhandle_main = list(user_interests.user_handle.unique())\n",
    "    assess_tags = list(user_scores.assessment_tag.unique())\n",
    "\n",
    "    courses_mat = np.zeros((len(userhandle_main),len(course_ids)))\n",
    "\n",
    "    #Values in course_views matrix are filled using view_time_seconds \n",
    "    users = user_courses['user_handle']\n",
    "    courses = user_courses['course_id']\n",
    "    viewtime = user_courses['view_time_seconds']\n",
    "\n",
    "    for i in range(len(users)):\n",
    "        r = userhandle_main.index(users[i])\n",
    "        c = course_ids.index(courses[i])\n",
    "        time = float(viewtime[i])\n",
    "        courses_mat[r][c] += time\n",
    "\n",
    "    scaler = MinMaxScaler(feature_range=(0,1))\n",
    "    courses_mat_scaled = scaler.fit_transform(courses_mat)\n",
    "\n",
    "    interests_mat = np.zeros((len(userhandle_main),len(interest_tags)))\n",
    "\n",
    "    #Values in course_views matrix are filled using view_time_seconds \n",
    "    users = user_interests['user_handle']\n",
    "    interests = user_interests['interest_tag']\n",
    "\n",
    "    for i in range(len(users)):\n",
    "        r = userhandle_main.index(users[i])\n",
    "        c = interest_tags.index(interests[i])\n",
    "        interests_mat[r][c] = 1\n",
    "\n",
    "    assess_mat = np.zeros((len(userhandle_main),len(assess_tags)))\n",
    "\n",
    "    #Values in course_views matrix are filled using view_time_seconds \n",
    "    users = user_scores['user_handle']\n",
    "    assesstags = user_scores['assessment_tag']\n",
    "\n",
    "    for i in range(len(users)):\n",
    "        r = userhandle_main.index(users[i])\n",
    "        c = assess_tags.index(assesstags[i])\n",
    "        assess_mat[r][c] = 1\n",
    "\n",
    "\n",
    "    final_mat = np.hstack((courses_mat_scaled, interests_mat, assess_mat))\n",
    "    final_df = pd.DataFrame(final_mat, index = userhandle_main, columns = course_ids + interest_tags + assess_tags)\n",
    "    final_df.to_csv(\"finaldata.csv\")\n",
    "    \n",
    "    tree = KDTree(final_df, metric = 'euclidean')\n",
    "    pickle.dump(tree, open(\"user_similarity.pkl\", \"wb\"))\n"
   ]
  },
  {
   "cell_type": "code",
   "execution_count": 4,
   "metadata": {
    "collapsed": true
   },
   "outputs": [],
   "source": [
    "read_and_process()"
   ]
  },
  {
   "cell_type": "code",
   "execution_count": null,
   "metadata": {
    "collapsed": true
   },
   "outputs": [],
   "source": []
  }
 ],
 "metadata": {
  "kernelspec": {
   "display_name": "Python 3",
   "language": "python",
   "name": "python3"
  },
  "language_info": {
   "codemirror_mode": {
    "name": "ipython",
    "version": 3
   },
   "file_extension": ".py",
   "mimetype": "text/x-python",
   "name": "python",
   "nbconvert_exporter": "python",
   "pygments_lexer": "ipython3",
   "version": "3.6.3"
  }
 },
 "nbformat": 4,
 "nbformat_minor": 2
}
